{
 "cells": [
  {
   "cell_type": "markdown",
   "metadata": {},
   "source": [
    "# **Mohsan Ali**\n",
    "\n",
    "\n",
    "Name:          -----------------------                   **Mohsan Ali**\n",
    "\n",
    "Roll No.:  -----------------------              **122.20**\n",
    "\n",
    "Class:     -----------------------              7th Sem.(Replica)\n",
    "\n",
    "Subject:      -----------------------           Python Programming\n",
    "\n",
    "\n",
    "\n",
    "# Project Project Final (Python Language)\n",
    "\n",
    "\n"
   ]
  },
  {
   "cell_type": "code",
   "execution_count": 20,
   "metadata": {},
   "outputs": [],
   "source": [
    "\n",
    "import numpy as np \n",
    "import pandas as pd\n",
    "import matplotlib.pyplot as plt\n",
    "import seaborn as sns\n",
    "from scipy import stats\n",
    "from sklearn.model_selection import train_test_split\n",
    "from sklearn.linear_model import LinearRegression\n",
    "from sklearn.metrics import r2_score, mean_squared_error\n"
   ]
  },
  {
   "cell_type": "markdown",
   "metadata": {},
   "source": [
    "# import data set by using pandas"
   ]
  },
  {
   "cell_type": "code",
   "execution_count": 21,
   "metadata": {},
   "outputs": [
    {
     "data": {
      "text/html": [
       "<div>\n",
       "<style scoped>\n",
       "    .dataframe tbody tr th:only-of-type {\n",
       "        vertical-align: middle;\n",
       "    }\n",
       "\n",
       "    .dataframe tbody tr th {\n",
       "        vertical-align: top;\n",
       "    }\n",
       "\n",
       "    .dataframe thead th {\n",
       "        text-align: right;\n",
       "    }\n",
       "</style>\n",
       "<table border=\"1\" class=\"dataframe\">\n",
       "  <thead>\n",
       "    <tr style=\"text-align: right;\">\n",
       "      <th></th>\n",
       "      <th>Index</th>\n",
       "      <th>property_type</th>\n",
       "      <th>price</th>\n",
       "      <th>location</th>\n",
       "      <th>city</th>\n",
       "      <th>baths</th>\n",
       "      <th>purpose</th>\n",
       "      <th>bedrooms</th>\n",
       "      <th>Area_in_Marla</th>\n",
       "    </tr>\n",
       "  </thead>\n",
       "  <tbody>\n",
       "    <tr>\n",
       "      <th>0</th>\n",
       "      <td>0</td>\n",
       "      <td>Flat</td>\n",
       "      <td>10000000</td>\n",
       "      <td>G-10</td>\n",
       "      <td>Islamabad</td>\n",
       "      <td>2</td>\n",
       "      <td>For Sale</td>\n",
       "      <td>2</td>\n",
       "      <td>4.0</td>\n",
       "    </tr>\n",
       "    <tr>\n",
       "      <th>1</th>\n",
       "      <td>1</td>\n",
       "      <td>Flat</td>\n",
       "      <td>6900000</td>\n",
       "      <td>E-11</td>\n",
       "      <td>Islamabad</td>\n",
       "      <td>3</td>\n",
       "      <td>For Sale</td>\n",
       "      <td>3</td>\n",
       "      <td>5.6</td>\n",
       "    </tr>\n",
       "    <tr>\n",
       "      <th>2</th>\n",
       "      <td>2</td>\n",
       "      <td>House</td>\n",
       "      <td>16500000</td>\n",
       "      <td>G-15</td>\n",
       "      <td>Islamabad</td>\n",
       "      <td>6</td>\n",
       "      <td>For Sale</td>\n",
       "      <td>5</td>\n",
       "      <td>8.0</td>\n",
       "    </tr>\n",
       "    <tr>\n",
       "      <th>3</th>\n",
       "      <td>3</td>\n",
       "      <td>House</td>\n",
       "      <td>43500000</td>\n",
       "      <td>Bani Gala</td>\n",
       "      <td>Islamabad</td>\n",
       "      <td>4</td>\n",
       "      <td>For Sale</td>\n",
       "      <td>4</td>\n",
       "      <td>40.0</td>\n",
       "    </tr>\n",
       "    <tr>\n",
       "      <th>4</th>\n",
       "      <td>4</td>\n",
       "      <td>House</td>\n",
       "      <td>7000000</td>\n",
       "      <td>DHA Defence</td>\n",
       "      <td>Islamabad</td>\n",
       "      <td>3</td>\n",
       "      <td>For Sale</td>\n",
       "      <td>3</td>\n",
       "      <td>8.0</td>\n",
       "    </tr>\n",
       "    <tr>\n",
       "      <th>...</th>\n",
       "      <td>...</td>\n",
       "      <td>...</td>\n",
       "      <td>...</td>\n",
       "      <td>...</td>\n",
       "      <td>...</td>\n",
       "      <td>...</td>\n",
       "      <td>...</td>\n",
       "      <td>...</td>\n",
       "      <td>...</td>\n",
       "    </tr>\n",
       "    <tr>\n",
       "      <th>99494</th>\n",
       "      <td>168435</td>\n",
       "      <td>Flat</td>\n",
       "      <td>7500000</td>\n",
       "      <td>Bahria Town Karachi</td>\n",
       "      <td>Karachi</td>\n",
       "      <td>3</td>\n",
       "      <td>For Sale</td>\n",
       "      <td>3</td>\n",
       "      <td>8.0</td>\n",
       "    </tr>\n",
       "    <tr>\n",
       "      <th>99495</th>\n",
       "      <td>168436</td>\n",
       "      <td>House</td>\n",
       "      <td>8800000</td>\n",
       "      <td>Bahria Town Karachi</td>\n",
       "      <td>Karachi</td>\n",
       "      <td>4</td>\n",
       "      <td>For Sale</td>\n",
       "      <td>3</td>\n",
       "      <td>8.0</td>\n",
       "    </tr>\n",
       "    <tr>\n",
       "      <th>99496</th>\n",
       "      <td>168438</td>\n",
       "      <td>House</td>\n",
       "      <td>14000000</td>\n",
       "      <td>Bahria Town Karachi</td>\n",
       "      <td>Karachi</td>\n",
       "      <td>3</td>\n",
       "      <td>For Sale</td>\n",
       "      <td>3</td>\n",
       "      <td>8.0</td>\n",
       "    </tr>\n",
       "    <tr>\n",
       "      <th>99497</th>\n",
       "      <td>168439</td>\n",
       "      <td>House</td>\n",
       "      <td>14000000</td>\n",
       "      <td>Bahria Town Karachi</td>\n",
       "      <td>Karachi</td>\n",
       "      <td>4</td>\n",
       "      <td>For Sale</td>\n",
       "      <td>4</td>\n",
       "      <td>14.0</td>\n",
       "    </tr>\n",
       "    <tr>\n",
       "      <th>99498</th>\n",
       "      <td>168445</td>\n",
       "      <td>House</td>\n",
       "      <td>9000000</td>\n",
       "      <td>Bahria Town Karachi</td>\n",
       "      <td>Karachi</td>\n",
       "      <td>3</td>\n",
       "      <td>For Sale</td>\n",
       "      <td>3</td>\n",
       "      <td>9.4</td>\n",
       "    </tr>\n",
       "  </tbody>\n",
       "</table>\n",
       "<p>99499 rows × 9 columns</p>\n",
       "</div>"
      ],
      "text/plain": [
       "        Index property_type     price             location       city  baths  \\\n",
       "0           0          Flat  10000000                 G-10  Islamabad      2   \n",
       "1           1          Flat   6900000                 E-11  Islamabad      3   \n",
       "2           2         House  16500000                 G-15  Islamabad      6   \n",
       "3           3         House  43500000            Bani Gala  Islamabad      4   \n",
       "4           4         House   7000000          DHA Defence  Islamabad      3   \n",
       "...       ...           ...       ...                  ...        ...    ...   \n",
       "99494  168435          Flat   7500000  Bahria Town Karachi    Karachi      3   \n",
       "99495  168436         House   8800000  Bahria Town Karachi    Karachi      4   \n",
       "99496  168438         House  14000000  Bahria Town Karachi    Karachi      3   \n",
       "99497  168439         House  14000000  Bahria Town Karachi    Karachi      4   \n",
       "99498  168445         House   9000000  Bahria Town Karachi    Karachi      3   \n",
       "\n",
       "        purpose  bedrooms  Area_in_Marla  \n",
       "0      For Sale         2            4.0  \n",
       "1      For Sale         3            5.6  \n",
       "2      For Sale         5            8.0  \n",
       "3      For Sale         4           40.0  \n",
       "4      For Sale         3            8.0  \n",
       "...         ...       ...            ...  \n",
       "99494  For Sale         3            8.0  \n",
       "99495  For Sale         3            8.0  \n",
       "99496  For Sale         3            8.0  \n",
       "99497  For Sale         4           14.0  \n",
       "99498  For Sale         3            9.4  \n",
       "\n",
       "[99499 rows x 9 columns]"
      ]
     },
     "execution_count": 21,
     "metadata": {},
     "output_type": "execute_result"
    }
   ],
   "source": [
    "\n",
    "data= pd.read_csv(\"C:/Users/Joyia/OneDrive/Documents/Python-assign-analysis/Python-data-analysis-assignment/house_prices.csv\")\n",
    "data"
   ]
  },
  {
   "cell_type": "markdown",
   "metadata": {},
   "source": [
    "# Question 1: What is the average price of properties in the dataset?\n"
   ]
  },
  {
   "cell_type": "code",
   "execution_count": 22,
   "metadata": {
    "tags": []
   },
   "outputs": [
    {
     "name": "stdout",
     "output_type": "stream",
     "text": [
      "1-Average price of properties in cities = 10375919.495974833\n",
      "2-Average price of properties in cities = 10375919.495974833\n"
     ]
    }
   ],
   "source": [
    "propertyMean1 = data[\"price\"].mean()\n",
    "propertyMean2 = np.mean(data[\"price\"])\n",
    "print(f\"1-Average price of properties in cities = {propertyMean1}\")\n",
    "print(f\"2-Average price of properties in cities = {propertyMean2}\")"
   ]
  },
  {
   "cell_type": "markdown",
   "metadata": {},
   "source": [
    "# Question 2:  What is the distribution of property types (e.g., flats, houses, penthouses)?\n"
   ]
  },
  {
   "cell_type": "code",
   "execution_count": 23,
   "metadata": {},
   "outputs": [
    {
     "name": "stdout",
     "output_type": "stream",
     "text": [
      "All property Types = property_type\n",
      "House            58169\n",
      "Flat             26658\n",
      "Upper Portion     8539\n",
      "Lower Portion     5549\n",
      "Penthouse          255\n",
      "Room               241\n",
      "Farm House          88\n",
      "Name: count, dtype: int64\n",
      "\n",
      "\n",
      "city        property_type\n",
      "Faisalabad  Farm House           2\n",
      "            Flat                16\n",
      "            House             1977\n",
      "            Lower Portion       85\n",
      "            Penthouse            2\n",
      "            Room                10\n",
      "            Upper Portion      139\n",
      "Islamabad   Farm House          20\n",
      "            Flat              5018\n",
      "            House            10416\n",
      "            Lower Portion     2866\n",
      "            Penthouse           37\n",
      "            Room               152\n",
      "            Upper Portion     3734\n",
      "Karachi     Farm House          20\n",
      "            Flat             18753\n",
      "            House            12834\n",
      "            Lower Portion     1808\n",
      "            Penthouse          205\n",
      "            Room                68\n",
      "            Upper Portion     3378\n",
      "Lahore      Farm House          38\n",
      "            Flat              1339\n",
      "            House            24743\n",
      "            Lower Portion       36\n",
      "            Penthouse            4\n",
      "            Room                 5\n",
      "            Upper Portion       56\n",
      "Rawalpindi  Farm House           8\n",
      "            Flat              1532\n",
      "            House             8199\n",
      "            Lower Portion      754\n",
      "            Penthouse            7\n",
      "            Room                 6\n",
      "            Upper Portion     1232\n",
      "dtype: int64\n"
     ]
    }
   ],
   "source": [
    "distProperty = data[\"property_type\"].value_counts()\n",
    "print(f\"All property Types = {distProperty}\")\n",
    "\n",
    "print('\\n')\n",
    "\n",
    "propertydist = data.groupby(['city', 'property_type']).size()\n",
    "print(propertydist)\n",
    "\n"
   ]
  },
  {
   "cell_type": "markdown",
   "metadata": {},
   "source": [
    "#  Question 3:  How many properties are listed for sale, and in which cities?"
   ]
  },
  {
   "cell_type": "code",
   "execution_count": 24,
   "metadata": {},
   "outputs": [
    {
     "name": "stdout",
     "output_type": "stream",
     "text": [
      "All property which is for sale  = 70947\n",
      "\n",
      "\n",
      "city\n",
      "Faisalabad     1611\n",
      "Islamabad      8794\n",
      "Karachi       27210\n",
      "Lahore        26221\n",
      "Rawalpindi     7111\n",
      "dtype: int64\n"
     ]
    }
   ],
   "source": [
    "#part 1\n",
    "propertyForSale = len(data[(data[\"purpose\"] == \"For Sale\")])\n",
    "\n",
    "print(f\"All property which is for sale  = {propertyForSale}\")\n",
    "\n",
    "\n",
    "print('\\n')\n",
    "\n",
    "#part 2\n",
    "specificPropertyForSale=data[(data[\"purpose\"] == \"For Sale\")].groupby(\"city\") .size()\n",
    "print(specificPropertyForSale)\n",
    "\n",
    "\n",
    "\n"
   ]
  },
  {
   "cell_type": "markdown",
   "metadata": {},
   "source": [
    "# Location Analysis\n",
    "\n",
    "### part 1: Which locations have the highest and lowest average property prices?\n"
   ]
  },
  {
   "cell_type": "code",
   "execution_count": 25,
   "metadata": {},
   "outputs": [
    {
     "name": "stdout",
     "output_type": "stream",
     "text": [
      "TECH Society 42500000.0\n",
      "Beaumont Road 16000.0\n"
     ]
    }
   ],
   "source": [
    "# Question No. 04\n",
    "\n",
    "locAvgPrice = data.groupby(\"location\")[\"price\"].mean()\n",
    "\n",
    "# print(locAvgPrice.apply(lambda x: \"{:,.0f}\".format(x)))\n",
    "\n",
    "print(locAvgPrice.idxmax(),locAvgPrice.max())\n",
    "print(locAvgPrice.idxmin(),locAvgPrice.min())\n",
    "\n",
    "\n",
    "\n",
    "\n",
    "\n",
    "\n",
    "# location_avg_price = data.groupby(\"location\")[\"price\"].mean()\n",
    "# for location, avg_price in location_avg_price.items():\n",
    "#     print(f\"{location}: {avg_price:,.0f}\")\n",
    "\n",
    "# location_avg_prices = data.groupby('location')['price'].mean()\n",
    "# print(location_avg_prices.map('{:.0f}'.format))\n",
    "\n",
    "\n"
   ]
  },
  {
   "cell_type": "markdown",
   "metadata": {},
   "source": [
    "# Location Analysis\n",
    "\n",
    "\n",
    "### Question 5: What are the most popular locations based on the number of listings?\n"
   ]
  },
  {
   "cell_type": "code",
   "execution_count": 26,
   "metadata": {},
   "outputs": [
    {
     "name": "stdout",
     "output_type": "stream",
     "text": [
      "papular locations are location\n",
      "DHA Defence               11787\n",
      "Bahria Town Karachi        6697\n",
      "Bahria Town Rawalpindi     5257\n",
      "Bahria Town                4437\n",
      "Gulistan-e-Jauhar          3532\n",
      "Gulshan-e-Iqbal Town       3061\n",
      "E-11                       2060\n",
      "North Karachi              1878\n",
      "North Nazimabad            1729\n",
      "Scheme 33                  1592\n",
      "Name: count, dtype: int64\n"
     ]
    }
   ],
   "source": [
    "\n",
    "\n",
    "popularloc = data['location'].value_counts().head(10)\n",
    "print('papular locations are',popularloc)\n",
    "\n",
    "\n"
   ]
  },
  {
   "cell_type": "markdown",
   "metadata": {},
   "source": [
    "# Property Characteristics:\n",
    " \n",
    "### Question No. 06:   What is the average number of bedrooms and bathrooms for listed properties?\n",
    " \n"
   ]
  },
  {
   "cell_type": "code",
   "execution_count": 27,
   "metadata": {},
   "outputs": [
    {
     "name": "stdout",
     "output_type": "stream",
     "text": [
      "Average No. of BedRooms :  3\n",
      "Average No. of Baths :  4\n"
     ]
    }
   ],
   "source": [
    "\n",
    "\n",
    "\n",
    "AvgBedrooms = data['bedrooms'].mean()\n",
    "print(f'Average No. of BedRooms :  {round(AvgBedrooms)}')\n",
    "\n",
    "\n",
    "AvgBathrooms = data['baths'].mean()\n",
    "print(f'Average No. of Baths :  {round(AvgBathrooms)}')\n"
   ]
  },
  {
   "cell_type": "markdown",
   "metadata": {},
   "source": [
    "# Property Characteristics:\n",
    " \n",
    "### Question No. 07:  How does property size vary across different types and locations?\n"
   ]
  },
  {
   "cell_type": "code",
   "execution_count": 28,
   "metadata": {},
   "outputs": [
    {
     "name": "stdout",
     "output_type": "stream",
     "text": [
      "property size vary across locations \n",
      "location\n",
      "12th Avenue         9.650000\n",
      "204 Chak Road       6.537500\n",
      "7th Avenue         20.857692\n",
      "9th Avenue         11.768421\n",
      "AGHOSH             20.000000\n",
      "                     ...    \n",
      "Zone 5             15.600000\n",
      "Zubaida Park        6.962500\n",
      "Zubair Colony       2.500000\n",
      "Zulfiqar Colony     4.000000\n",
      "circular road       4.800000\n",
      "Name: Area_in_Marla, Length: 1389, dtype: float64\n",
      "\n",
      "\n",
      "property size vary across different types  :\n",
      "property_type\n",
      "Farm House       81.638636\n",
      "Flat              5.974642\n",
      "House             9.131424\n",
      "Lower Portion    11.421049\n",
      "Penthouse        10.660000\n",
      "Room              8.830290\n",
      "Upper Portion    12.357021\n",
      "Name: Area_in_Marla, dtype: float64\n",
      "          city  property_type  Area_in_Marla\n",
      "0   Faisalabad     Farm House     134.000000\n",
      "1   Faisalabad           Flat       3.062500\n",
      "2   Faisalabad          House       6.642590\n",
      "3   Faisalabad  Lower Portion       7.385882\n",
      "4   Faisalabad      Penthouse       2.800000\n",
      "5   Faisalabad           Room       1.950000\n",
      "6   Faisalabad  Upper Portion      10.246043\n",
      "7    Islamabad     Farm House      56.800000\n",
      "8    Islamabad           Flat       5.880829\n",
      "9    Islamabad          House      12.058266\n",
      "10   Islamabad  Lower Portion      12.703385\n",
      "11   Islamabad      Penthouse      16.402703\n",
      "12   Islamabad           Room       7.544737\n",
      "13   Islamabad  Upper Portion      14.466658\n",
      "14     Karachi     Farm House      97.660000\n",
      "15     Karachi           Flat       6.109465\n",
      "16     Karachi          House       8.783224\n",
      "17     Karachi  Lower Portion      10.522400\n",
      "18     Karachi      Penthouse       9.826829\n",
      "19     Karachi           Room      13.385294\n",
      "20     Karachi  Upper Portion      10.810835\n",
      "21      Lahore     Farm House      84.210526\n",
      "22      Lahore           Flat       5.857580\n",
      "23      Lahore          House       8.584068\n",
      "24      Lahore  Lower Portion       5.416667\n",
      "25      Lahore      Penthouse       7.750000\n",
      "26      Lahore           Room       7.740000\n",
      "27      Lahore  Upper Portion       4.998214\n",
      "28  Rawalpindi     Farm House      78.375000\n",
      "29  Rawalpindi           Flat       4.764295\n",
      "30  Rawalpindi          House       8.210148\n",
      "31  Rawalpindi  Lower Portion       9.443236\n",
      "32  Rawalpindi      Penthouse       8.614286\n",
      "33  Rawalpindi           Room       2.150000\n",
      "34  Rawalpindi  Upper Portion      10.775162\n"
     ]
    },
    {
     "data": {
      "image/png": "[encoded data removed]",
      "text/plain": [
       "<Figure size 1200x800 with 1 Axes>"
      ]
     },
     "metadata": {},
     "output_type": "display_data"
    }
   ],
   "source": [
    "\n",
    "Avgarea = data.groupby('location')['Area_in_Marla'].mean()\n",
    "print(f'property size vary across locations ')\n",
    "print(Avgarea)\n",
    "\n",
    "print('\\n')\n",
    "\n",
    "AvgBedrooms = data.groupby('property_type')['Area_in_Marla'].mean()\n",
    "print(f'property size vary across different types  :')\n",
    "print(f'{AvgBedrooms}')\n",
    "\n",
    "\n",
    "\n",
    "avgarea = data.groupby(['city', 'property_type'])['Area_in_Marla'].mean().reset_index()\n",
    "print(avgarea)\n",
    "\n",
    "# Plotting the graph\n",
    "plt.figure(figsize=(12, 8))\n",
    "sns.barplot(x='city', y='Area_in_Marla', hue='property_type', data=avgarea)\n",
    "plt.title('Average Area_in_Marla by City and Property Type')\n",
    "plt.xlabel('City')\n",
    "plt.ylabel('Average Area_in_Marla')\n",
    "plt.xticks(rotation=45)\n",
    "plt.tight_layout()\n",
    "plt.show()"
   ]
  },
  {
   "cell_type": "markdown",
   "metadata": {},
   "source": [
    "# Price Analysis\n",
    "\n",
    "### Question No. 09:  Are there outliers or high-value properties in the dataset?\n",
    "\n",
    "yes, there are many outliers present in data set\n"
   ]
  },
  {
   "cell_type": "code",
   "execution_count": 29,
   "metadata": {},
   "outputs": [
    {
     "name": "stdout",
     "output_type": "stream",
     "text": [
      "Number of outliers: 2594\n",
      "Outliers Are: [43500000, 40000000, 40000000, 39500000, 40000000, 40000000, 40000000, 39500000, 40000000, 38800000, 41500000, 40000000, 40000000, 42000000, 42000000, 39500000, 42000000, 42800000, 42500000, 40000000, 40000000, 39000000, 40000000, 40000000, 44500000, 42500000, 39900000, 40000000, 40000000, 43500000, 41000000, 43000000, 44000000, 41000000, 42500000, 39500000, 43200000, 40000000, 39000000, 43500000, 41700000, 41500000, 42500000, 43000000, 39000000, 41000000, 40000000, 40000000, 42500000, 40000000, 43000000, 42500000, 40000000, 43000000, 43500000, 42500000, 39000000, 44000000, 39500000, 40000000, 42000000, 40000000, 42500000, 42500000, 42500000, 39000000, 40000000, 43000000, 40000000, 44500000, 39000000, 39000000, 41500000, 41000000, 42500000, 41000000, 42500000, 44500000, 44000000, 41800000, 41000000, 43500000, 41000000, 40000000, 41000000, 39500000, 39000000, 42500000, 42500000, 42000000, 39500000, 40000000, 41500000, 40000000, 42500000, 41500000, 42500000, 42500000, 43000000, 43000000, 40500000, 42000000, 43000000, 40000000, 39000000, 42000000, 40000000, 42500000, 42000000, 42500000, 42500000, 43500000, 44500000, 42000000, 42500000, 40000000, 42500000, 41500000, 39000000, 42500000, 39500000, 42500000, 39000000, 43500000, 41000000, 39000000, 39000000, 41000000, 40000000, 40000000, 41500000, 44000000, 40000000, 42500000, 40000000, 42500000, 44000000, 42500000, 43000000, 42500000, 41500000, 42000000, 42500000, 40000000, 40000000, 40000000, 39900000, 39000000, 41000000, 41500000, 44000000, 39900000, 42500000, 42500000, 40500000, 40000000, 42500000, 41000000, 41500000, 41000000, 40500000, 42500000, 40000000, 41500000, 42500000, 40000000, 41500000, 43500000, 40000000, 39000000, 39000000, 41000000, 41000000, 42500000, 38600000, 42000000, 41000000, 40000000, 41500000, 42500000, 39000000, 40000000, 44000000, 41800000, 41000000, 42500000, 40000000, 38700000, 41800000, 41000000, 42500000, 41000000, 39800000, 42500000, 43500000, 42500000, 40000000, 43000000, 39000000, 40000000, 39000000, 43000000, 40000000, 42500000, 39000000, 41000000, 40000000, 42500000, 39500000, 42000000, 41500000, 42000000, 40000000, 40000000, 39000000, 42500000, 42500000, 42000000, 41500000, 40000000, 41500000, 40000000, 43500000, 39000000, 41000000, 40000000, 42000000, 42000000, 40000000, 39000000, 39000000, 42500000, 41500000, 39000000, 40000000, 41000000, 40000000, 40000000, 42500000, 42500000, 42500000, 39000000, 42000000, 40500000, 43000000, 43000000, 39000000, 39000000, 42500000, 42500000, 41000000, 42000000, 40500000, 39500000, 41000000, 39500000, 42500000, 43000000, 40000000, 43500000, 44500000, 39500000, 40000000, 41000000, 39500000, 41500000, 44000000, 39000000, 39000000, 41500000, 39000000, 42000000, 42500000, 39000000, 40000000, 40000000, 40000000, 42500000, 42500000, 40000000, 40000000, 40000000, 40000000, 42500000, 42500000, 41000000, 41000000, 41000000, 39500000, 42500000, 42500000, 44500000, 40000000, 40000000, 40000000, 40000000, 40000000, 41000000, 44000000, 40000000, 42500000, 40500000, 40000000, 40000000, 40000000, 41500000, 40000000, 44000000, 42500000, 42500000, 40000000, 42500000, 40000000, 42500000, 39000000, 39000000, 42500000, 42500000, 40000000, 42500000, 39000000, 40000000, 40000000, 41500000, 40000000, 40000000, 43500000, 41500000, 43000000, 41000000, 39000000, 44000000, 40000000, 43000000, 42500000, 41000000, 43000000, 40500000, 39000000, 39500000, 44000000, 40000000, 39900000, 43000000, 40000000, 42500000, 40000000, 39000000, 42500000, 44000000, 42900000, 41000000, 43000000, 39000000, 40500000, 42500000, 41000000, 43500000, 44800000, 44000000, 42500000, 42500000, 42500000, 41500000, 40000000, 44000000, 42500000, 40000000, 44500000, 42500000, 42000000, 39000000, 41000000, 39000000, 44500000, 40000000, 39000000, 42500000, 40000000, 40000000, 40000000, 39500000, 41000000, 39900000, 42500000, 39000000, 39000000, 40000000, 42000000, 42000000, 41500000, 42500000, 42000000, 42500000, 44000000, 40000000, 40000000, 40000000, 40000000, 41000000, 40000000, 42500000, 39000000, 42800000, 39900000, 40000000, 40000000, 39000000, 42000000, 42500000, 39900000, 39900000, 39000000, 44000000, 40000000, 39900000, 39500000, 43000000, 42500000, 40000000, 42500000, 39000000, 41000000, 42500000, 43000000, 42500000, 42500000, 39000000, 40000000, 44000000, 40000000, 40000000, 41500000, 42500000, 40000000, 41000000, 41000000, 41000000, 41000000, 39000000, 42500000, 42500000, 40000000, 40000000, 43500000, 44500000, 40000000, 40000000, 40000000, 42000000, 40000000, 39000000, 42500000, 40000000, 42500000, 42500000, 40000000, 44000000, 41000000, 43000000, 39000000, 39000000, 41000000, 43500000, 42500000, 40000000, 39000000, 42500000, 42500000, 43000000, 42500000, 42500000, 42500000, 42500000, 42500000, 38800000, 41000000, 40000000, 40000000, 39000000, 44500000, 44000000, 42500000, 42500000, 39000000, 40000000, 40000000, 43000000, 42000000, 40000000, 41500000, 44500000, 43500000, 39000000, 42500000, 40000000, 42000000, 41000000, 41000000, 43000000, 40000000, 42500000, 39500000, 43000000, 40000000, 43500000, 42500000, 44000000, 44500000, 43500000, 43500000, 41000000, 39900000, 44000000, 40000000, 40000000, 39000000, 40000000, 44500000, 41000000, 44000000, 42500000, 39200000, 43500000, 42500000, 44000000, 42500000, 39000000, 42500000, 40000000, 42500000, 42500000, 41000000, 41500000, 44500000, 44000000, 43000000, 40000000, 41000000, 44500000, 39000000, 39500000, 42500000, 40000000, 41000000, 42000000, 43000000, 44000000, 41000000, 39000000, 44000000, 42500000, 42500000, 41500000, 41500000, 42500000, 41500000, 40000000, 41500000, 41000000, 40000000, 42500000, 41000000, 42500000, 43500000, 43000000, 42000000, 43500000, 42500000, 40000000, 42500000, 40000000, 42500000, 42500000, 42500000, 42000000, 42500000, 40000000, 43000000, 39000000, 42500000, 40000000, 41000000, 40000000, 39500000, 44000000, 42500000, 41000000, 39000000, 42500000, 42500000, 41500000, 40000000, 39500000, 40000000, 41500000, 41500000, 40000000, 40000000, 40000000, 44000000, 42500000, 40000000, 40000000, 42500000, 39500000, 42500000, 40000000, 40000000, 42000000, 39000000, 39000000, 42500000, 39000000, 40000000, 42500000, 42500000, 43500000, 42500000, 42500000, 40000000, 41000000, 40000000, 40000000, 41000000, 42000000, 39000000, 43500000, 40000000, 39000000, 41000000, 41000000, 41500000, 42000000, 40000000, 42500000, 42500000, 40000000, 41000000, 42500000, 40000000, 42500000, 42500000, 42500000, 39500000, 43500000, 40000000, 42500000, 39000000, 42500000, 42500000, 42000000, 40000000, 39000000, 41500000, 42500000, 40000000, 41000000, 40000000, 42000000, 41000000, 42500000, 44500000, 42500000, 41000000, 43200000, 40000000, 40000000, 39600000, 42500000, 39500000, 42000000, 43000000, 40000000, 42500000, 40000000, 42500000, 42500000, 39000000, 43500000, 41500000, 42000000, 42500000, 41500000, 44000000, 39000000, 39000000, 44400000, 40000000, 41000000, 40000000, 39500000, 41000000, 41500000, 40000000, 44500000, 42900000, 40000000, 41000000, 40000000, 42500000, 41500000, 43000000, 44000000, 42500000, 40000000, 40500000, 43500000, 41500000, 39000000, 41000000, 43000000, 40000000, 42000000, 42500000, 41000000, 41000000, 39500000, 40000000, 42500000, 41500000, 40000000, 41500000, 42000000, 40000000, 43000000, 43000000, 42500000, 40000000, 40000000, 40000000, 44000000, 40000000, 40000000, 40000000, 42000000, 39900000, 42500000, 42500000, 42000000, 43000000, 43000000, 43000000, 39000000, 41500000, 41500000, 40000000, 39000000, 41000000, 39500000, 40000000, 41500000, 43500000, 40000000, 39500000, 41000000, 42500000, 40000000, 42500000, 39000000, 40000000, 40000000, 39900000, 44000000, 39000000, 41000000, 42500000, 42500000, 39000000, 40000000, 40000000, 41000000, 40000000, 42500000, 40000000, 39000000, 42500000, 41000000, 41000000, 44000000, 40000000, 44000000, 44000000, 42000000, 41000000, 40000000, 40000000, 39000000, 41000000, 42500000, 42500000, 43500000, 43500000, 39500000, 39000000, 39900000, 44500000, 39000000, 44500000, 39500000, 43000000, 42500000, 39000000, 42500000, 43500000, 42500000, 41500000, 41500000, 39000000, 40000000, 42500000, 42500000, 43500000, 43000000, 39000000, 40000000, 41000000, 42500000, 40000000, 40000000, 43000000, 42500000, 41500000, 40000000, 42500000, 42500000, 40000000, 42000000, 42000000, 39900000, 42500000, 42500000, 42000000, 42500000, 42500000, 43000000, 41500000, 42000000, 40000000, 39500000, 42500000, 40000000, 43500000, 40000000, 44000000, 40000000, 43500000, 43500000, 43500000, 43500000, 43500000, 41000000, 41000000, 40000000, 43000000, 39500000, 41000000, 39500000, 40000000, 40000000, 43500000, 39000000, 40000000, 43500000, 42500000, 43000000, 41500000, 41000000, 42500000, 39000000, 41000000, 40000000, 42500000, 43000000, 41000000, 39000000, 43000000, 39900000, 43000000, 40000000, 42500000, 40000000, 40000000, 42500000, 44000000, 41000000, 42500000, 39000000, 41000000, 40000000, 40000000, 40000000, 42500000, 43000000, 39000000, 42500000, 39500000, 42000000, 40000000, 39000000, 42500000, 39000000, 42500000, 40000000, 40000000, 42500000, 40000000, 42000000, 43500000, 40000000, 42500000, 41500000, 42000000, 43500000, 40000000, 42000000, 39000000, 43500000, 43500000, 43500000, 40000000, 40000000, 41000000, 41000000, 40000000, 39000000, 42500000, 41000000, 40000000, 42500000, 43600000, 41000000, 43000000, 40000000, 40000000, 44500000, 41500000, 40000000, 43000000, 42500000, 40000000, 40000000, 40000000, 40000000, 40000000, 40000000, 39500000, 42500000, 39000000, 40000000, 40000000, 42500000, 42500000, 41000000, 39500000, 39900000, 41000000, 39000000, 41000000, 39000000, 39500000, 40000000, 40000000, 39800000, 40000000, 42000000, 44000000, 41500000, 40500000, 43000000, 40000000, 40000000, 40000000, 44500000, 42800000, 41000000, 41500000, 40000000, 40000000, 41000000, 43000000, 40000000, 42500000, 40000000, 42500000, 42500000, 41500000, 41500000, 41000000, 39500000, 39500000, 42500000, 44500000, 40000000, 39500000, 40000000, 42500000, 43500000, 41500000, 42800000, 41500000, 40000000, 43000000, 42000000, 42500000, 42500000, 40000000, 42500000, 41000000, 44900000, 42500000, 42500000, 42500000, 43000000, 40000000, 39000000, 42500000, 42500000, 40000000, 42500000, 43000000, 40000000, 40000000, 42500000, 39500000, 40000000, 42500000, 42500000, 40500000, 40000000, 42500000, 42500000, 40000000, 40000000, 41500000, 39000000, 40000000, 42500000, 41000000, 42500000, 40000000, 44000000, 40000000, 39000000, 44500000, 41000000, 39000000, 42500000, 40000000, 42500000, 40000000, 41000000, 41000000, 42500000, 39500000, 42500000, 41500000, 43000000, 40000000, 42000000, 39500000, 39000000, 42500000, 40000000, 44000000, 44500000, 42000000, 39000000, 42500000, 40000000, 43500000, 39900000, 41500000, 40000000, 41000000, 39900000, 43500000, 42000000, 42000000, 41500000, 40000000, 42000000, 39000000, 39900000, 43500000, 39000000, 39000000, 42500000, 42500000, 40000000, 41000000, 40000000, 44000000, 40000000, 41200000, 44500000, 40000000, 41000000, 42500000, 44000000, 40000000, 39500000, 44900000, 40000000, 39000000, 39500000, 42500000, 40000000, 42500000, 39000000, 43500000, 43500000, 42500000, 42500000, 41000000, 43000000, 40000000, 42500000, 42500000, 42500000, 42500000, 43500000, 42000000, 41500000, 42500000, 39900000, 41000000, 39500000, 40400000, 42500000, 43000000, 44000000, 41500000, 42200000, 43500000, 43000000, 41800000, 43500000, 39500000, 42500000, 40000000, 40000000, 41200000, 40800000, 44000000, 44000000, 42500000, 44000000, 42500000, 39500000, 40000000, 39000000, 39000000, 44000000, 40000000, 42500000, 44000000, 43200000, 42500000, 39000000, 42500000, 41000000, 39000000, 42500000, 42500000, 40000000, 42500000, 39500000, 42500000, 42500000, 40000000, 43000000, 42500000, 39500000, 42500000, 42500000, 41500000, 40000000, 41000000, 40000000, 44500000, 40000000, 39900000, 42000000, 44000000, 42500000, 40000000, 41000000, 39500000, 40000000, 41000000, 42500000, 40000000, 40000000, 42500000, 39000000, 43500000, 42500000, 41000000, 40000000, 40000000, 42500000, 44000000, 42000000, 42500000, 41600000, 41500000, 42500000, 40000000, 40000000, 43000000, 42500000, 42500000, 40000000, 42500000, 40000000, 40000000, 40000000, 42500000, 41500000, 42000000, 41000000, 40000000, 42500000, 40000000, 42500000, 41500000, 42500000, 40000000, 42500000, 42500000, 43500000, 41000000, 39000000, 42400000, 42500000, 40000000, 42500000, 40000000, 44000000, 39500000, 39500000, 41000000, 42500000, 40000000, 42500000, 39000000, 40000000, 43000000, 42500000, 40000000, 43000000, 42000000, 42000000, 41500000, 40000000, 40000000, 41200000, 44000000, 43500000, 42700000, 40000000, 41000000, 39000000, 42500000, 42500000, 40000000, 39200000, 44000000, 43000000, 42500000, 41000000, 40000000, 40000000, 40000000, 43500000, 41500000, 42500000, 41500000, 40000000, 42500000, 43500000, 39500000, 42500000, 39000000, 41500000, 40500000, 44000000, 44500000, 44000000, 39500000, 39500000, 39000000, 42500000, 43500000, 42500000, 44000000, 42500000, 40000000, 40000000, 39000000, 41000000, 42500000, 43500000, 42000000, 41500000, 40000000, 43500000, 41500000, 44000000, 43200000, 42500000, 42500000, 39500000, 42500000, 43000000, 41000000, 39500000, 40000000, 42500000, 39000000, 40000000, 42500000, 44000000, 42500000, 42000000, 43500000, 42500000, 39500000, 41500000, 40000000, 42500000, 41500000, 41000000, 41000000, 41000000, 43000000, 42000000, 40000000, 42000000, 41000000, 44000000, 41500000, 42500000, 42500000, 44000000, 39000000, 41000000, 42000000, 40000000, 43000000, 39000000, 42000000, 43000000, 39900000, 44000000, 39000000, 39000000, 41500000, 43500000, 42500000, 43000000, 41000000, 44500000, 41500000, 39900000, 39000000, 42000000, 41500000, 41800000, 40000000, 42400000, 41000000, 39500000, 40000000, 42000000, 42500000, 42000000, 42500000, 43000000, 42500000, 41700000, 42000000, 41000000, 43500000, 40000000, 40000000, 40000000, 40000000, 43000000, 39500000, 42500000, 41000000, 42500000, 39000000, 41000000, 40000000, 39000000, 41000000, 40200000, 41000000, 39000000, 41500000, 42500000, 40000000, 39000000, 42500000, 42500000, 41500000, 42500000, 39000000, 39500000, 43500000, 39700000, 39000000, 42500000, 40900000, 42000000, 39000000, 42500000, 41000000, 40300000, 40000000, 44000000, 41800000, 43000000, 41600000, 44500000, 41500000, 39900000, 40000000, 41500000, 39000000, 40000000, 41500000, 39000000, 40000000, 39000000, 42000000, 40000000, 39500000, 42500000, 44000000, 41500000, 42500000, 42000000, 41500000, 40000000, 39000000, 39000000, 42900000, 39000000, 41500000, 44500000, 43000000, 42500000, 41500000, 40000000, 42500000, 40000000, 42500000, 42500000, 40000000, 41100000, 40000000, 40000000, 43000000, 41500000, 42000000, 43000000, 41000000, 39000000, 39900000, 40000000, 41000000, 39500000, 40000000, 39500000, 39000000, 40000000, 41000000, 40000000, 41000000, 42500000, 39500000, 41500000, 41000000, 42500000, 39500000, 40500000, 41000000, 44500000, 43600000, 43500000, 41000000, 41000000, 42500000, 40200000, 43000000, 42500000, 44500000, 43000000, 42500000, 41500000, 39000000, 42500000, 44500000, 40000000, 39900000, 40000000, 40000000, 42500000, 40000000, 42000000, 41000000, 42500000, 42500000, 40000000, 39000000, 44000000, 41500000, 42500000, 39000000, 42500000, 40000000, 39000000, 40000000, 40000000, 40000000, 40000000, 42500000, 42500000, 41000000, 40000000, 39000000, 40000000, 40000000, 40000000, 39000000, 41000000, 40000000, 39000000, 44000000, 40000000, 39500000, 43500000, 41500000, 39000000, 42500000, 41500000, 42500000, 39500000, 43000000, 42500000, 40000000, 43000000, 40000000, 42500000, 44000000, 42500000, 43500000, 42500000, 42500000, 39500000, 39500000, 44000000, 44000000, 40000000, 42000000, 41000000, 40000000, 42500000, 43500000, 40000000, 43000000, 39000000, 40000000, 43500000, 41500000, 38800000, 41900000, 43500000, 44500000, 43000000, 43500000, 39000000, 42500000, 44000000, 39500000, 40000000, 41000000, 39000000, 40000000, 42000000, 39500000, 41500000, 42500000, 42500000, 42000000, 42500000, 41000000, 39000000, 42500000, 40000000, 42500000, 42500000, 42500000, 40000000, 42500000, 43000000, 39000000, 42500000, 42500000, 39500000, 41500000, 44000000, 40000000, 39900000, 42500000, 40000000, 43000000, 41000000, 44500000, 40000000, 43500000, 39900000, 42500000, 40000000, 42500000, 42500000, 41000000, 44000000, 42000000, 42500000, 42500000, 40000000, 43500000, 42500000, 41500000, 39000000, 41500000, 39000000, 44500000, 40000000, 42000000, 39500000, 40000000, 44500000, 43000000, 42500000, 40000000, 42500000, 42500000, 40000000, 43500000, 40000000, 39500000, 42500000, 39000000, 42500000, 43000000, 44000000, 42500000, 40000000, 43500000, 42000000, 40000000, 42500000, 40000000, 40500000, 40500000, 39900000, 40000000, 40000000, 40000000, 39500000, 39900000, 40000000, 40000000, 42500000, 41000000, 43500000, 39500000, 39000000, 40000000, 42300000, 38700000, 42700000, 42000000, 41000000, 41500000, 40000000, 41000000, 43000000, 39000000, 40000000, 42500000, 44000000, 39900000, 40000000, 39900000, 40000000, 40000000, 41500000, 42000000, 42500000, 40500000, 42500000, 42500000, 39500000, 41500000, 39900000, 42500000, 40000000, 40000000, 42500000, 40000000, 44000000, 40000000, 40000000, 40000000, 39000000, 39000000, 40000000, 42000000, 41000000, 44000000, 39500000, 40000000, 42500000, 41500000, 41000000, 40000000, 42500000, 39500000, 40500000, 39500000, 44000000, 39000000, 40000000, 43000000, 41000000, 39000000, 44000000, 40000000, 40000000, 43000000, 43500000, 40000000, 42500000, 43000000, 41000000, 42500000, 40000000, 39000000, 42500000, 39000000, 43000000, 44000000, 42500000, 42500000, 39000000, 40000000, 40000000, 40000000, 42000000, 44500000, 41000000, 39500000, 43500000, 42500000, 44000000, 41000000, 42500000, 42500000, 40000000, 42500000, 42500000, 39900000, 41500000, 40000000, 40000000, 41000000, 40000000, 40000000, 40000000, 40000000, 41000000, 39000000, 39900000, 42500000, 42500000, 40000000, 43500000, 40000000, 40000000, 41000000, 43000000, 42500000, 40000000, 40500000, 44000000, 40000000, 42500000, 42500000, 40000000, 42000000, 40000000, 41000000, 42500000, 39000000, 39000000, 40000000, 44000000, 43000000, 40000000, 42500000, 42500000, 42500000, 39000000, 41500000, 41000000, 44500000, 40000000, 40000000, 40000000, 44200000, 41000000, 44000000, 39500000, 41500000, 43500000, 40000000, 43500000, 42500000, 42500000, 40000000, 42500000, 39400000, 40000000, 42500000, 42500000, 43000000, 42500000, 42500000, 43000000, 40000000, 39000000, 40000000, 41500000, 44000000, 41000000, 42500000, 44000000, 40000000, 40000000, 40000000, 39000000, 39000000, 42500000, 42500000, 39000000, 42500000, 43000000, 41500000, 40000000, 41000000, 43000000, 40000000, 43500000, 42500000, 43000000, 43000000, 39000000, 40000000, 42000000, 40000000, 44000000, 42500000, 43000000, 43000000, 44000000, 40000000, 40000000, 40900000, 40000000, 39900000, 44000000, 44000000, 39000000, 42500000, 42500000, 43500000, 39000000, 41200000, 43500000, 40000000, 43500000, 42500000, 41500000, 44000000, 44000000, 40000000, 44000000, 41000000, 40000000, 42500000, 44000000, 40000000, 41500000, 40000000, 42500000, 41000000, 42500000, 40000000, 40000000, 40500000, 41900000, 39900000, 41000000, 42500000, 44900000, 40000000, 44000000, 43000000, 41000000, 44000000, 41000000, 43000000, 40000000, 44000000, 41000000, 40000000, 41000000, 41000000, 40000000, 44000000, 41000000, 42000000, 40000000, 41500000, 41500000, 39000000, 40000000, 38800000, 42000000, 40000000, 40000000, 41000000, 39000000, 40000000, 39000000, 41000000, 40000000, 40000000, 40000000, 42500000, 40000000, 40000000, 41000000, 41500000, 41800000, 41500000, 44000000, 40000000, 40000000, 42500000, 44000000, 42000000, 42500000, 41000000, 42500000, 43000000, 39900000, 40000000, 42500000, 42500000, 41000000, 42500000, 39000000, 40000000, 39000000, 44000000, 44500000, 44800000, 39000000, 39500000, 39900000, 42500000, 41500000, 41000000, 40000000, 43500000, 44000000, 40000000, 41000000, 40000000, 43000000, 42000000, 40000000, 40000000, 41000000, 41000000, 40000000, 39000000, 42000000, 38900000, 41900000, 42000000, 43000000, 43900000, 42000000, 40000000, 42500000, 42000000, 40500000, 40000000, 40000000, 42000000, 42500000, 39000000, 42500000, 40000000, 42500000, 40000000, 39000000, 42000000, 39900000, 42000000, 39500000, 40000000, 42500000, 39000000, 44000000, 44000000, 42500000, 41000000, 40000000, 39500000, 39000000, 42500000, 42000000, 42000000, 41000000, 40000000, 42500000, 43000000, 39000000, 42500000, 42500000, 41000000, 44000000, 44000000, 44000000, 40000000, 41000000, 39500000, 39000000, 41500000, 39000000, 40000000, 44000000, 40000000, 43000000, 43000000, 42500000, 41000000, 44000000, 42500000, 42500000, 43000000, 42100000, 40000000, 39000000, 44500000, 44000000, 39000000, 43000000, 39000000, 41000000, 40000000, 40000000, 42000000, 40000000, 42500000, 41000000, 39000000, 42500000, 41000000, 42500000, 42500000, 39500000, 44900000, 42500000, 44500000, 41000000, 41000000, 38900000, 41000000, 40000000, 39500000, 41900000, 44000000, 42000000, 39500000, 43900000, 42500000, 39900000, 40000000, 41000000, 39000000, 42500000, 41500000, 40000000, 43000000, 41000000, 44500000, 42500000, 42000000, 41500000, 44000000, 39000000, 43500000, 41000000, 39000000, 41500000, 39500000, 42500000, 40000000, 41000000, 43000000, 40000000, 41500000, 44000000, 40000000, 42000000, 41000000, 43500000, 42000000, 44800000, 42500000, 42500000, 41000000, 41000000, 44000000, 39000000, 41500000, 43000000, 44000000, 40000000, 44000000, 44000000, 41000000, 44500000, 40000000, 42500000, 44000000, 40000000, 42000000, 43000000, 43000000, 42500000, 41700000, 44000000, 44500000, 41000000, 40000000, 39000000, 40000000, 42500000, 42000000, 39900000, 44000000, 44900000, 40000000, 39000000, 40000000, 40000000, 41900000, 44000000, 44000000, 43000000, 40000000, 42000000, 42000000, 42500000, 44000000, 44000000, 39000000, 42000000, 39000000, 42000000, 42000000, 43000000, 39000000, 39000000, 43000000, 41000000, 44500000, 42500000, 44000000, 43500000, 42500000, 44500000, 43000000, 42500000, 42500000, 41000000, 42500000, 40000000, 42000000, 43000000, 43000000, 41000000, 40000000, 42500000, 39000000, 39000000, 39000000, 42500000, 42500000, 42500000, 39000000, 41500000, 44000000, 43000000, 40000000, 39000000, 43000000, 40000000, 40000000, 41000000, 40000000, 42000000, 42500000, 44000000, 41000000, 43500000, 43000000, 43000000, 42000000, 39500000, 39000000, 39000000, 42000000, 41000000, 42000000, 42000000, 41000000, 39500000, 39000000, 39500000, 42000000, 41000000, 41000000, 41000000, 40000000, 40000000, 39000000, 40000000, 40000000, 40000000, 42500000, 43000000, 41500000, 39000000, 44400000, 42500000, 40000000, 42000000, 43000000, 41500000, 43500000, 44000000, 39500000, 39000000, 40000000, 41500000, 43000000, 42500000, 42000000, 39000000, 42500000, 41000000, 40000000, 41000000, 40000000, 39000000, 44500000, 40000000, 41500000, 40000000, 42500000, 42500000, 41500000, 42500000, 42500000, 40000000, 44000000, 41200000, 40000000, 40000000, 42000000, 42500000, 41000000, 40000000, 40000000, 39000000, 40000000, 41000000, 41500000, 39000000, 40000000, 41800000, 40000000, 41500000, 41000000, 41500000, 40000000, 43000000, 43000000, 42500000, 40000000, 43000000, 39000000, 40000000, 40000000, 39500000, 42500000, 43000000, 40000000, 40000000, 40000000, 40000000, 42500000, 41500000, 40000000, 40000000, 42500000, 44000000, 41000000, 44500000, 41000000, 41500000, 43500000, 41000000, 44000000, 42500000, 39500000, 40000000, 41500000, 44000000, 40000000, 40000000, 43000000, 39000000, 40000000, 39000000, 42000000, 42500000, 42500000, 40000000, 42500000, 41000000, 42500000, 42500000, 40000000, 40000000, 43500000, 42000000, 42500000, 39000000, 39000000, 40000000, 40000000, 39000000, 41000000, 42500000, 40000000, 42500000, 44000000, 39000000, 42500000, 44500000, 40000000, 41600000, 39000000, 42500000, 41000000, 42500000, 44000000, 42500000, 42000000, 42500000, 39500000, 41500000, 42500000, 39000000, 39000000, 42500000, 43500000, 44500000, 42500000, 44000000, 39000000, 42500000, 41000000, 41000000, 40000000, 44000000, 39000000, 44900000, 44000000, 42500000, 39900000, 42500000, 40000000, 40000000, 40000000, 40000000, 42500000, 41000000, 42000000, 42500000, 42500000, 39000000, 39000000, 41000000, 39000000, 44000000, 43500000, 42500000, 42000000, 41000000, 42500000, 39500000, 40000000, 43500000, 40000000, 40000000, 44000000, 44000000, 42500000, 41000000, 44000000, 43000000, 43500000, 40000000, 39500000, 39900000, 40000000, 42500000, 39000000, 42000000, 39000000, 40000000, 40000000, 40500000, 44000000, 43800000, 42500000, 42000000, 39000000, 44500000, 40000000, 42500000, 41000000, 39000000, 44500000, 43500000, 42500000, 40000000, 42500000, 41500000, 42500000, 42500000, 41500000, 40000000, 39000000, 42500000, 42500000, 39000000, 40000000, 41000000, 41500000, 44000000, 41500000, 40000000, 40000000, 39000000, 44000000, 41000000, 41900000, 42500000, 43000000, 43500000, 42500000, 41000000, 42500000, 40000000, 41000000, 42000000, 40000000, 42500000, 40000000, 42500000, 40000000, 39000000, 39000000, 40000000, 42500000, 40000000, 43000000, 39000000, 40000000, 40000000, 41000000, 40000000, 41500000, 40000000, 42500000, 42500000, 43000000, 40000000, 42500000, 43500000, 40000000, 42500000, 42000000, 39000000, 40000000, 42500000, 39000000, 40500000, 43500000, 40000000, 40000000, 41000000, 39000000, 40000000, 43000000, 41000000, 40000000, 39500000, 41500000, 42500000, 42500000, 41500000, 39000000, 42500000, 41500000, 39000000, 41000000, 40000000, 42500000, 39500000, 42500000, 40000000, 43000000, 42500000, 44500000, 40000000, 39000000, 41000000, 40000000, 39000000, 44000000, 42000000, 40000000, 41000000, 42500000, 41000000, 39000000, 40000000, 41000000, 43500000, 42500000, 40000000, 40000000, 40000000, 41800000, 42500000, 39000000, 42000000, 42500000, 41500000, 41000000, 39500000, 40000000, 41500000, 41500000, 39000000, 44000000, 42500000]\n"
     ]
    },
    {
     "data": {
      "image/png": "[encoded data removed]",
      "text/plain": [
       "<Figure size 1000x600 with 1 Axes>"
      ]
     },
     "metadata": {},
     "output_type": "display_data"
    }
   ],
   "source": [
    "q1 = np.percentile(data['price'], 25)\n",
    "q3 = np.percentile(data['price'], 75)\n",
    "\n",
    "iqr = q3 - q1\n",
    "\n",
    "lowerBound = q1 - 1.5 * iqr\n",
    "upperBound = q3 + 1.5 * iqr\n",
    "\n",
    "def outlierCheck(data):\n",
    "    outliers = []\n",
    "    for x in data['price']:\n",
    "        if x < lowerBound or x > upperBound:\n",
    "            outliers.append(x)\n",
    "    return  outliers\n",
    "\n",
    "outlier = outlierCheck(data)\n",
    "\n",
    "print(\"Number of outliers:\", len(outlier))\n",
    "print(\"Outliers Are:\", outlier)\n",
    "\n",
    "\n",
    "\n",
    "# Create a boxplot\n",
    "plt.figure(figsize=(10, 6))\n",
    "sns.boxplot(x='price', data=data)\n",
    "plt.title('Boxplot of Price')\n",
    "plt.xlabel('Price')\n",
    "plt.show()"
   ]
  },
  {
   "cell_type": "markdown",
   "metadata": {},
   "source": [
    "# Price Analysis\n",
    "\n",
    "### Question No. 10:  How does property price correlate with the number of bedrooms and bathrooms?"
   ]
  },
  {
   "cell_type": "code",
   "execution_count": 30,
   "metadata": {},
   "outputs": [
    {
     "name": "stdout",
     "output_type": "stream",
     "text": [
      "\n",
      "Correlation Matrix:\n",
      "             price  bedrooms     baths\n",
      "price     1.000000  0.464393  0.496222\n",
      "bedrooms  0.464393  1.000000  0.863885\n",
      "baths     0.496222  0.863885  1.000000\n"
     ]
    }
   ],
   "source": [
    "\n",
    "corrmatrix = data[['price', 'bedrooms', 'baths']].corr()\n",
    "print(\"\\nCorrelation Matrix:\")\n",
    "print(corrmatrix)\n"
   ]
  },
  {
   "cell_type": "markdown",
   "metadata": {},
   "source": [
    "# City Comparison\n",
    "\n",
    "### Question No. 11:  How do property prices differ between cities?\n"
   ]
  },
  {
   "cell_type": "code",
   "execution_count": 31,
   "metadata": {},
   "outputs": [
    {
     "name": "stdout",
     "output_type": "stream",
     "text": [
      "         city       price\n",
      "0  Faisalabad   7799314.0\n",
      "1   Islamabad   5838865.0\n",
      "2     Karachi   9498481.0\n",
      "3      Lahore  16780796.0\n",
      "4  Rawalpindi   7926352.0\n"
     ]
    },
    {
     "data": {
      "image/png": "[encoded data removed]",
      "text/plain": [
       "<Figure size 1600x800 with 1 Axes>"
      ]
     },
     "metadata": {},
     "output_type": "display_data"
    }
   ],
   "source": [
    "\n",
    "avgPriceCity=data.groupby('city')['price'].mean().reset_index()\n",
    "\n",
    "print(round(avgPriceCity))\n",
    "plt.figure(figsize=(16, 8))\n",
    "\n",
    "sns.barplot(x='city',y='price', data=avgPriceCity)\n",
    "plt.xlabel('cites')\n",
    "plt.ylabel('Average price')\n",
    "plt.title('Average price across cites')\n",
    "plt.xticks(rotation=45)\n",
    "plt.show()\n",
    "\n",
    "\n"
   ]
  },
  {
   "cell_type": "markdown",
   "metadata": {},
   "source": [
    "# City Comparison\n",
    "\n",
    "### Question No. 12:  Are there specific property types more common in certain cities?\n",
    "\n",
    "yes, house nad flat is the most commonly type in cities "
   ]
  },
  {
   "cell_type": "code",
   "execution_count": 32,
   "metadata": {},
   "outputs": [
    {
     "name": "stdout",
     "output_type": "stream",
     "text": [
      "House deals 1977 times in Faisalabad\n",
      "House deals 10416 times in Islamabad\n",
      "Flat deals 18753 times in Karachi\n",
      "House deals 24743 times in Lahore\n",
      "House deals 8199 times in Rawalpindi\n"
     ]
    }
   ],
   "source": [
    "countt = data.groupby(['city', 'property_type']).size()\n",
    "maxindex = countt.groupby('city').idxmax()\n",
    "\n",
    "for city , maxindex in maxindex.items():\n",
    "    maxvalue=countt.loc[maxindex]\n",
    "    maxtype = maxindex[1]\n",
    "    print(f'{maxtype} deals {maxvalue} times in {city}')\n"
   ]
  },
  {
   "cell_type": "markdown",
   "metadata": {},
   "source": [
    "# Purpose of Listings:\n",
    "\n",
    "### Question No. 13:  What is the distribution of properties based on their purpose (e.g., for sale)?\n",
    "\n"
   ]
  },
  {
   "cell_type": "code",
   "execution_count": 33,
   "metadata": {},
   "outputs": [
    {
     "name": "stdout",
     "output_type": "stream",
     "text": [
      "distribution of properties\n",
      "purpose\n",
      "For Sale    70947\n",
      "For Rent    28552\n",
      "Name: count, dtype: int64\n",
      "\n",
      "\n"
     ]
    }
   ],
   "source": [
    "distpurpose = data['purpose'].value_counts()\n",
    "print('distribution of properties')\n",
    "\n",
    "print(distpurpose)\n",
    "\n",
    "print('\\n')\n"
   ]
  },
  {
   "cell_type": "markdown",
   "metadata": {},
   "source": [
    "# Purpose of Listings:\n",
    "\n",
    "### Question No. 14:  How does the average price vary between different purposes?"
   ]
  },
  {
   "cell_type": "code",
   "execution_count": 34,
   "metadata": {},
   "outputs": [
    {
     "name": "stdout",
     "output_type": "stream",
     "text": [
      "Average price is\n",
      "purpose\n",
      "For Rent       85189.0\n",
      "For Sale    14517334.0\n",
      "Name: price, dtype: float64\n"
     ]
    }
   ],
   "source": [
    "#part 2\n",
    "avgdistPrice= data.groupby('purpose')['price'].mean()\n",
    "print('Average price is')\n",
    "print(round(avgdistPrice))\n"
   ]
  },
  {
   "cell_type": "markdown",
   "metadata": {},
   "source": [
    "# Specific Property Types\n",
    "### Question No. 15:  What is the average price and size of flats in the dataset?\n"
   ]
  },
  {
   "cell_type": "code",
   "execution_count": 35,
   "metadata": {},
   "outputs": [
    {
     "name": "stdout",
     "output_type": "stream",
     "text": [
      "Average price of flats is : 7453661\n",
      "\n",
      "\n",
      "Average Area Size of flats is : 6\n"
     ]
    }
   ],
   "source": [
    "avgOfFlat = data[data['property_type'] == 'Flat']\n",
    "flatAvg=avgOfFlat['price'].mean()\n",
    "flatMarlaAvg=avgOfFlat['Area_in_Marla'].mean()\n",
    "print(f'Average price of flats is : {round(flatAvg)}')\n",
    "print('\\n')\n",
    "print(f'Average Area Size of flats is : {round(flatMarlaAvg)}')\n"
   ]
  },
  {
   "cell_type": "markdown",
   "metadata": {},
   "source": [
    "# Popular Locations and Property Types:\n",
    "\n",
    "### Question No. 16:  Identify popular locations based on the number of listings.\n",
    "\n"
   ]
  },
  {
   "cell_type": "code",
   "execution_count": 36,
   "metadata": {},
   "outputs": [
    {
     "name": "stdout",
     "output_type": "stream",
     "text": [
      "papular locations are location\n",
      "DHA Defence               11787\n",
      "Bahria Town Karachi        6697\n",
      "Bahria Town Rawalpindi     5257\n",
      "Bahria Town                4437\n",
      "Gulistan-e-Jauhar          3532\n",
      "Gulshan-e-Iqbal Town       3061\n",
      "E-11                       2060\n",
      "North Karachi              1878\n",
      "North Nazimabad            1729\n",
      "Scheme 33                  1592\n",
      "Name: count, dtype: int64\n"
     ]
    }
   ],
   "source": [
    "popularloc = data['location'].value_counts().head(10)\n",
    "print('papular locations are',popularloc)\n",
    "\n",
    "\n"
   ]
  },
  {
   "cell_type": "markdown",
   "metadata": {},
   "source": [
    "# Popular Locations and Property Types:\n",
    "\n",
    "### Question No. 17:  Are certain property types more prevalent in popular locations?"
   ]
  },
  {
   "cell_type": "code",
   "execution_count": 37,
   "metadata": {},
   "outputs": [
    {
     "name": "stdout",
     "output_type": "stream",
     "text": [
      "property types more prevalent in DHA Defence\n",
      "property_type\n",
      "House            6170\n",
      "Flat             3935\n",
      "Upper Portion    1091\n",
      "Name: count, dtype: int64\n",
      "\n",
      "\n",
      "property types more prevalent in Bahria Town Karachi\n",
      "property_type\n",
      "House            4210\n",
      "Flat             2486\n",
      "Upper Portion       1\n",
      "Name: count, dtype: int64\n",
      "\n",
      "\n",
      "property types more prevalent in Bahria Town Rawalpindi\n",
      "property_type\n",
      "House            3374\n",
      "Flat             1173\n",
      "Upper Portion     442\n",
      "Name: count, dtype: int64\n",
      "\n",
      "\n",
      "property types more prevalent in Bahria Town\n",
      "property_type\n",
      "House            3991\n",
      "Flat              342\n",
      "Upper Portion      63\n",
      "Name: count, dtype: int64\n",
      "\n",
      "\n",
      "property types more prevalent in Gulistan-e-Jauhar\n",
      "property_type\n",
      "Flat             2155\n",
      "House             692\n",
      "Upper Portion     375\n",
      "Name: count, dtype: int64\n",
      "\n",
      "\n"
     ]
    }
   ],
   "source": [
    "popular = data['location'].value_counts().head(5)\n",
    "\n",
    "\n",
    "for location in popular.index:\n",
    "    print('property types more prevalent in',location)\n",
    "    prevalent=data[data['location'] == location]['property_type'].value_counts()\n",
    "    print(prevalent[0:3])\n",
    "    print('\\n')"
   ]
  },
  {
   "cell_type": "markdown",
   "metadata": {},
   "source": [
    "# Testing of Hypothesis:\n",
    "\n",
    "### Question No. 18:  Is the average price of same-size flats in all the cities equal or not? If not, then which city has the highest average price?\n",
    "\n"
   ]
  },
  {
   "cell_type": "code",
   "execution_count": 41,
   "metadata": {
    "slideshow": {
     "slide_type": "notes"
    }
   },
   "outputs": [
    {
     "name": "stdout",
     "output_type": "stream",
     "text": [
      "p-value: 4.061776495007113e-234\n",
      "Reject null hypothesis. average price of same-size flats in all the cities not equal\n",
      "\n",
      "\n",
      "city             Rawalpindi\n",
      "Area_in_Marla         172.0\n",
      "price            43000000.0\n",
      "dtype: object\n",
      "\n",
      "\n"
     ]
    }
   ],
   "source": [
    "\n",
    "\n",
    "anovdata = data[data['property_type'] == 'Flat']\n",
    "anov = stats.f_oneway(*(group['price'] for name, group in anovdata.groupby('city')))\n",
    "print(\"p-value:\", anov.pvalue)\n",
    "if anov.pvalue < 0.05:\n",
    "    print(\"Reject null hypothesis. average price of same-size flats in all the cities not equal\")\n",
    "else:\n",
    "    print(\"Fail to reject null hypothesis. average price of same-size flats in all the cities equal \")\n",
    "    \n",
    "#part 2   ? If not, then which city has the highest average price\n",
    "avgflatPrice = anovdata.groupby(['city', 'Area_in_Marla'])['price'].mean().reset_index()\n",
    "kk=round(avgflatPrice)\n",
    "print('\\n')\n",
    "print(kk.max())\n",
    "print('\\n')\n",
    "\n",
    "\n"
   ]
  },
  {
   "cell_type": "markdown",
   "metadata": {},
   "source": [
    "# Testing of Hypothesis:\n",
    "\n",
    "\n",
    "### Question No. 19:  Is there any association between purpose (i.e., for sale, for rent) and property type?"
   ]
  },
  {
   "cell_type": "code",
   "execution_count": null,
   "metadata": {},
   "outputs": [
    {
     "name": "stdout",
     "output_type": "stream",
     "text": [
      "\n",
      "Chi-square test  for association between purpose and property type:\n",
      "p-value: 0.0\n",
      "Reject null hypothesis. There is a significant association between purpose and property type.\n"
     ]
    }
   ],
   "source": [
    "chi2, p, _ , _ = stats.chi2_contingency(pd.crosstab(data['purpose'], data['property_type']))\n",
    "print(\"\\nChi-square test  for association between purpose and property type:\")\n",
    "print(\"p-value:\", p)\n",
    "if p < 0.05:\n",
    "    print(\"Reject null hypothesis. There is a significant association between purpose and property type.\")\n",
    "else:\n",
    "    print(\"Fail to reject null hypothesis.\")"
   ]
  },
  {
   "cell_type": "markdown",
   "metadata": {},
   "source": [
    "# Predictive Modeling:\n",
    "\n",
    "### Question No. 20:  Can we build a regression model to predict property prices based on features such as location, number of bedrooms, and size?\n",
    "\n",
    "\n",
    "### Question No. 21:  What is the performance (R2 , RMSE, etc.) of different (build at least two) regression models for predicting property prices?"
   ]
  },
  {
   "cell_type": "code",
   "execution_count": null,
   "metadata": {},
   "outputs": [
    {
     "name": "stdout",
     "output_type": "stream",
     "text": [
      "Regression Equation: Price = 3941697.74 * Bedrooms + -2831673.73\n",
      "Regression Equation: Price = 207937.78 * Area_in_Marla + 8554908.77\n",
      "Regression Equation: Price = 3588159.73 * Bathrooms + -2290664.09\n"
     ]
    },
    {
     "name": "stdout",
     "output_type": "stream",
     "text": [
      "\n",
      "Linear Regression Model Performance:\n",
      "R-squared score: -4.955087745640986e+17\n",
      "Root Mean Squared Error (RMSE): 7531020007001284.0\n"
     ]
    },
    {
     "name": "stderr",
     "output_type": "stream",
     "text": [
      "c:\\Users\\Joyia\\AppData\\Local\\Programs\\Python\\Python312\\Lib\\site-packages\\sklearn\\metrics\\_regression.py:483: FutureWarning: 'squared' is deprecated in version 1.4 and will be removed in 1.6. To calculate the root mean squared error, use the function'root_mean_squared_error'.\n",
      "  warnings.warn(\n"
     ]
    }
   ],
   "source": [
    "#part 1\n",
    "regmodel = LinearRegression()\n",
    "regmodel.fit(data[['bedrooms']], data['price'])\n",
    "slope = regmodel.coef_[0]\n",
    "intercept = regmodel.intercept_\n",
    "print(f\"Regression Equation: Price = {slope:.2f} * Bedrooms + {intercept:.2f}\")\n",
    "\n",
    "regmodel = LinearRegression()\n",
    "regmodel.fit(data[['Area_in_Marla']], data['price'])\n",
    "slope = regmodel.coef_[0]\n",
    "intercept = regmodel.intercept_\n",
    "print(f\"Regression Equation: Price = {slope:.2f} * Area_in_Marla + {intercept:.2f}\")\n",
    "\n",
    "regmodel = LinearRegression()\n",
    "regmodel.fit(data[['baths']], data['price'])\n",
    "slope = regmodel.coef_[0]\n",
    "intercept = regmodel.intercept_\n",
    "print(f\"Regression Equation: Price = {slope:.2f} * Bathrooms + {intercept:.2f}\")\n",
    "\n",
    "\n",
    "#part 2\n",
    "X = data[['location', 'bedrooms', 'Area_in_Marla']]\n",
    "y = data['price']\n",
    "X = pd.get_dummies(X)\n",
    "\n",
    "# Split data into training and testing sets\n",
    "X_train, X_test, y_train, y_test = train_test_split(X, y, test_size=0.2, random_state=42)\n",
    "\n",
    "# Build Linear Regression Model\n",
    "model = LinearRegression()\n",
    "model.fit(X_train, y_train)\n",
    "\n",
    "# Predictions\n",
    "y_pred = model.predict(X_test)\n",
    "\n",
    "# Evaluation metrics\n",
    "r2 = r2_score(y_test, y_pred)\n",
    "rmse = mean_squared_error(y_test, y_pred, squared=False)\n",
    "\n",
    "print(\"\\nLinear Regression Model Performance:\")\n",
    "print(\"R-squared score:\", r2)\n",
    "print(\"Root Mean Squared Error (RMSE):\", rmse)"
   ]
  }
 ],
 "metadata": {
  "kernelspec": {
   "display_name": "Python 3",
   "language": "python",
   "name": "python3"
  },
  "language_info": {
   "codemirror_mode": {
    "name": "ipython",
    "version": 3
   },
   "file_extension": ".py",
   "mimetype": "text/x-python",
   "name": "python",
   "nbconvert_exporter": "python",
   "pygments_lexer": "ipython3",
   "version": "3.12.1"
  }
 },
 "nbformat": 4,
 "nbformat_minor": 2
}
